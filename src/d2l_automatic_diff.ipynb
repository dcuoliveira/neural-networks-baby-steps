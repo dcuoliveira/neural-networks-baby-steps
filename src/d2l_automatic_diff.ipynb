{
 "cells": [
  {
   "cell_type": "code",
   "execution_count": 23,
   "id": "966a2fbf-968b-4ab5-bb4f-45d247f39ded",
   "metadata": {},
   "outputs": [],
   "source": [
    "import torch"
   ]
  },
  {
   "cell_type": "markdown",
   "id": "079f602f-1d36-4416-8bb8-bba93f153031",
   "metadata": {},
   "source": [
    "## Problem 1\n",
    "\n",
    "Lets assume our goal is to differentiate the following function:\n",
    "\n",
    "$$\n",
    "y = 2\\boldsymbol{x}^{'}\\boldsymbol{x}\n",
    "$$\n",
    "\n",
    "Lets first define the domain of the function and store it:"
   ]
  },
  {
   "cell_type": "code",
   "execution_count": 24,
   "id": "dddaae0f-d07d-4622-9a59-16280146fccb",
   "metadata": {},
   "outputs": [
    {
     "data": {
      "text/plain": [
       "tensor([0., 1., 2., 3.], requires_grad=True)"
      ]
     },
     "execution_count": 24,
     "metadata": {},
     "output_type": "execute_result"
    }
   ],
   "source": [
    "x = torch.arange(4.0, requires_grad=True)\n",
    "x"
   ]
  },
  {
   "cell_type": "markdown",
   "id": "b0f89804-33fd-4228-8983-8b80f9caa8e2",
   "metadata": {},
   "source": [
    "Then we define the function we wish to differentiate:"
   ]
  },
  {
   "cell_type": "code",
   "execution_count": 25,
   "id": "e105d653-813b-405b-84b6-7d0bf5471ad8",
   "metadata": {},
   "outputs": [
    {
     "data": {
      "text/plain": [
       "tensor(28., grad_fn=<MulBackward0>)"
      ]
     },
     "execution_count": 25,
     "metadata": {},
     "output_type": "execute_result"
    }
   ],
   "source": [
    "y = 2*torch.dot(x,x)\n",
    "y"
   ]
  },
  {
   "cell_type": "markdown",
   "id": "de8f4ee0-0bcf-492e-8d74-4a08fe083851",
   "metadata": {},
   "source": [
    "Once we have the domain and the target function. we can now compute the derivative of it and use this result to the input (domain) values:"
   ]
  },
  {
   "cell_type": "code",
   "execution_count": 22,
   "id": "a2d3a431-4553-48b4-a2a5-f61df9273edc",
   "metadata": {},
   "outputs": [
    {
     "data": {
      "text/plain": [
       "tensor([ 0.,  4.,  8., 12.])"
      ]
     },
     "execution_count": 22,
     "metadata": {},
     "output_type": "execute_result"
    }
   ],
   "source": [
    "y.backward()\n",
    "x.grad"
   ]
  },
  {
   "cell_type": "code",
   "execution_count": null,
   "id": "5e34b84d-f636-4fbc-a447-5f5d1d95f3d9",
   "metadata": {},
   "outputs": [],
   "source": []
  }
 ],
 "metadata": {
  "kernelspec": {
   "display_name": "Python 3 (ipykernel)",
   "language": "python",
   "name": "python3"
  },
  "language_info": {
   "codemirror_mode": {
    "name": "ipython",
    "version": 3
   },
   "file_extension": ".py",
   "mimetype": "text/x-python",
   "name": "python",
   "nbconvert_exporter": "python",
   "pygments_lexer": "ipython3",
   "version": "3.8.13"
  }
 },
 "nbformat": 4,
 "nbformat_minor": 5
}
